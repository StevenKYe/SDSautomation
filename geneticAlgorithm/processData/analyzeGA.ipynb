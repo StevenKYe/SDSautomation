{
 "cells": [
  {
   "cell_type": "code",
   "execution_count": 1,
   "id": "dc8cbc35",
   "metadata": {},
   "outputs": [],
   "source": [
    "import pandas as pd\n",
    "import numpy as np\n",
    "import matplotlib.pyplot as plt\n",
    "import seaborn as sns\n",
    "plt.style.use(['science', 'no-latex'])\n",
    "%matplotlib inline"
   ]
  },
  {
   "cell_type": "code",
   "execution_count": 2,
   "id": "d59175ba",
   "metadata": {},
   "outputs": [
    {
     "data": {
      "text/html": [
       "<div>\n",
       "<style scoped>\n",
       "    .dataframe tbody tr th:only-of-type {\n",
       "        vertical-align: middle;\n",
       "    }\n",
       "\n",
       "    .dataframe tbody tr th {\n",
       "        vertical-align: top;\n",
       "    }\n",
       "\n",
       "    .dataframe thead th {\n",
       "        text-align: right;\n",
       "    }\n",
       "</style>\n",
       "<table border=\"1\" class=\"dataframe\">\n",
       "  <thead>\n",
       "    <tr style=\"text-align: right;\">\n",
       "      <th></th>\n",
       "      <th>tg</th>\n",
       "      <th>tint</th>\n",
       "      <th>tc</th>\n",
       "      <th>w</th>\n",
       "      <th>gain</th>\n",
       "      <th>freq</th>\n",
       "    </tr>\n",
       "  </thead>\n",
       "  <tbody>\n",
       "    <tr>\n",
       "      <th>0</th>\n",
       "      <td>140.0</td>\n",
       "      <td>220.0</td>\n",
       "      <td>7.00</td>\n",
       "      <td>700.0</td>\n",
       "      <td>0.112115</td>\n",
       "      <td>12.00</td>\n",
       "    </tr>\n",
       "    <tr>\n",
       "      <th>1</th>\n",
       "      <td>160.0</td>\n",
       "      <td>590.0</td>\n",
       "      <td>7.78</td>\n",
       "      <td>3100.0</td>\n",
       "      <td>0.330746</td>\n",
       "      <td>12.71</td>\n",
       "    </tr>\n",
       "    <tr>\n",
       "      <th>2</th>\n",
       "      <td>140.0</td>\n",
       "      <td>540.0</td>\n",
       "      <td>7.22</td>\n",
       "      <td>4000.0</td>\n",
       "      <td>0.302326</td>\n",
       "      <td>12.86</td>\n",
       "    </tr>\n",
       "    <tr>\n",
       "      <th>3</th>\n",
       "      <td>160.0</td>\n",
       "      <td>580.0</td>\n",
       "      <td>7.44</td>\n",
       "      <td>4900.0</td>\n",
       "      <td>0.257574</td>\n",
       "      <td>12.85</td>\n",
       "    </tr>\n",
       "    <tr>\n",
       "      <th>4</th>\n",
       "      <td>100.0</td>\n",
       "      <td>330.0</td>\n",
       "      <td>7.52</td>\n",
       "      <td>1200.0</td>\n",
       "      <td>0.131148</td>\n",
       "      <td>12.10</td>\n",
       "    </tr>\n",
       "  </tbody>\n",
       "</table>\n",
       "</div>"
      ],
      "text/plain": [
       "      tg   tint    tc       w      gain   freq\n",
       "0  140.0  220.0  7.00   700.0  0.112115  12.00\n",
       "1  160.0  590.0  7.78  3100.0  0.330746  12.71\n",
       "2  140.0  540.0  7.22  4000.0  0.302326  12.86\n",
       "3  160.0  580.0  7.44  4900.0  0.257574  12.85\n",
       "4  100.0  330.0  7.52  1200.0  0.131148  12.10"
      ]
     },
     "execution_count": 2,
     "metadata": {},
     "output_type": "execute_result"
    }
   ],
   "source": [
    "df = pd.read_csv(r'..\\uptoDateResults.csv', names=['tg', 'tint', 'tc', 'w', 'gain', 'freq'])\n",
    "df = df.loc[(df != 0).any(axis=1)]\n",
    "df.head()"
   ]
  },
  {
   "cell_type": "code",
   "execution_count": 3,
   "id": "a829057d",
   "metadata": {},
   "outputs": [
    {
     "data": {
      "text/plain": [
       "(1520, 6)"
      ]
     },
     "execution_count": 3,
     "metadata": {},
     "output_type": "execute_result"
    }
   ],
   "source": [
    "df.shape"
   ]
  },
  {
   "cell_type": "code",
   "execution_count": 11,
   "id": "babae7ab",
   "metadata": {},
   "outputs": [],
   "source": [
    "for idx, _ in df.iterrows():\n",
    "    if idx < 200:\n",
    "        df.loc[idx, ['generation']] = 1\n",
    "    else:\n",
    "        generation = int((idx - 200) / 120 + 1)\n",
    "        df.loc[idx, ['generation']] = generation"
   ]
  },
  {
   "cell_type": "code",
   "execution_count": 12,
   "id": "233d8ab1",
   "metadata": {},
   "outputs": [
    {
     "data": {
      "text/html": [
       "<div>\n",
       "<style scoped>\n",
       "    .dataframe tbody tr th:only-of-type {\n",
       "        vertical-align: middle;\n",
       "    }\n",
       "\n",
       "    .dataframe tbody tr th {\n",
       "        vertical-align: top;\n",
       "    }\n",
       "\n",
       "    .dataframe thead th {\n",
       "        text-align: right;\n",
       "    }\n",
       "</style>\n",
       "<table border=\"1\" class=\"dataframe\">\n",
       "  <thead>\n",
       "    <tr style=\"text-align: right;\">\n",
       "      <th></th>\n",
       "      <th>tg</th>\n",
       "      <th>tint</th>\n",
       "      <th>tc</th>\n",
       "      <th>w</th>\n",
       "      <th>gain</th>\n",
       "      <th>freq</th>\n",
       "      <th>generation</th>\n",
       "    </tr>\n",
       "  </thead>\n",
       "  <tbody>\n",
       "    <tr>\n",
       "      <th>0</th>\n",
       "      <td>140.0</td>\n",
       "      <td>220.0</td>\n",
       "      <td>7.00</td>\n",
       "      <td>700.0</td>\n",
       "      <td>0.112115</td>\n",
       "      <td>12.00</td>\n",
       "      <td>1.0</td>\n",
       "    </tr>\n",
       "    <tr>\n",
       "      <th>1</th>\n",
       "      <td>160.0</td>\n",
       "      <td>590.0</td>\n",
       "      <td>7.78</td>\n",
       "      <td>3100.0</td>\n",
       "      <td>0.330746</td>\n",
       "      <td>12.71</td>\n",
       "      <td>1.0</td>\n",
       "    </tr>\n",
       "    <tr>\n",
       "      <th>2</th>\n",
       "      <td>140.0</td>\n",
       "      <td>540.0</td>\n",
       "      <td>7.22</td>\n",
       "      <td>4000.0</td>\n",
       "      <td>0.302326</td>\n",
       "      <td>12.86</td>\n",
       "      <td>1.0</td>\n",
       "    </tr>\n",
       "    <tr>\n",
       "      <th>3</th>\n",
       "      <td>160.0</td>\n",
       "      <td>580.0</td>\n",
       "      <td>7.44</td>\n",
       "      <td>4900.0</td>\n",
       "      <td>0.257574</td>\n",
       "      <td>12.85</td>\n",
       "      <td>1.0</td>\n",
       "    </tr>\n",
       "    <tr>\n",
       "      <th>4</th>\n",
       "      <td>100.0</td>\n",
       "      <td>330.0</td>\n",
       "      <td>7.52</td>\n",
       "      <td>1200.0</td>\n",
       "      <td>0.131148</td>\n",
       "      <td>12.10</td>\n",
       "      <td>1.0</td>\n",
       "    </tr>\n",
       "    <tr>\n",
       "      <th>...</th>\n",
       "      <td>...</td>\n",
       "      <td>...</td>\n",
       "      <td>...</td>\n",
       "      <td>...</td>\n",
       "      <td>...</td>\n",
       "      <td>...</td>\n",
       "      <td>...</td>\n",
       "    </tr>\n",
       "    <tr>\n",
       "      <th>1515</th>\n",
       "      <td>280.0</td>\n",
       "      <td>430.0</td>\n",
       "      <td>7.56</td>\n",
       "      <td>1400.0</td>\n",
       "      <td>0.047660</td>\n",
       "      <td>13.90</td>\n",
       "      <td>11.0</td>\n",
       "    </tr>\n",
       "    <tr>\n",
       "      <th>1516</th>\n",
       "      <td>100.0</td>\n",
       "      <td>510.0</td>\n",
       "      <td>7.40</td>\n",
       "      <td>4300.0</td>\n",
       "      <td>0.543430</td>\n",
       "      <td>12.67</td>\n",
       "      <td>11.0</td>\n",
       "    </tr>\n",
       "    <tr>\n",
       "      <th>1517</th>\n",
       "      <td>200.0</td>\n",
       "      <td>380.0</td>\n",
       "      <td>7.22</td>\n",
       "      <td>3900.0</td>\n",
       "      <td>0.043395</td>\n",
       "      <td>12.20</td>\n",
       "      <td>11.0</td>\n",
       "    </tr>\n",
       "    <tr>\n",
       "      <th>1518</th>\n",
       "      <td>150.0</td>\n",
       "      <td>530.0</td>\n",
       "      <td>7.14</td>\n",
       "      <td>3600.0</td>\n",
       "      <td>0.745702</td>\n",
       "      <td>12.88</td>\n",
       "      <td>11.0</td>\n",
       "    </tr>\n",
       "    <tr>\n",
       "      <th>1519</th>\n",
       "      <td>120.0</td>\n",
       "      <td>230.0</td>\n",
       "      <td>7.62</td>\n",
       "      <td>4400.0</td>\n",
       "      <td>0.092488</td>\n",
       "      <td>12.90</td>\n",
       "      <td>11.0</td>\n",
       "    </tr>\n",
       "  </tbody>\n",
       "</table>\n",
       "<p>1520 rows × 7 columns</p>\n",
       "</div>"
      ],
      "text/plain": [
       "         tg   tint    tc       w      gain   freq  generation\n",
       "0     140.0  220.0  7.00   700.0  0.112115  12.00         1.0\n",
       "1     160.0  590.0  7.78  3100.0  0.330746  12.71         1.0\n",
       "2     140.0  540.0  7.22  4000.0  0.302326  12.86         1.0\n",
       "3     160.0  580.0  7.44  4900.0  0.257574  12.85         1.0\n",
       "4     100.0  330.0  7.52  1200.0  0.131148  12.10         1.0\n",
       "...     ...    ...   ...     ...       ...    ...         ...\n",
       "1515  280.0  430.0  7.56  1400.0  0.047660  13.90        11.0\n",
       "1516  100.0  510.0  7.40  4300.0  0.543430  12.67        11.0\n",
       "1517  200.0  380.0  7.22  3900.0  0.043395  12.20        11.0\n",
       "1518  150.0  530.0  7.14  3600.0  0.745702  12.88        11.0\n",
       "1519  120.0  230.0  7.62  4400.0  0.092488  12.90        11.0\n",
       "\n",
       "[1520 rows x 7 columns]"
      ]
     },
     "execution_count": 12,
     "metadata": {},
     "output_type": "execute_result"
    }
   ],
   "source": [
    "df"
   ]
  },
  {
   "cell_type": "code",
   "execution_count": null,
   "id": "ab1f014e",
   "metadata": {},
   "outputs": [],
   "source": [
    "firstRound = round(df[df['round']==1].describe(),2)\n",
    "secondRound = round(df[df['round']==2].describe(),2)\n",
    "thirdRound = round(df[df['round']==3].describe(),2)\n",
    "fourthRound = round(df[df['round']==4].describe(),2)\n",
    "fifthRound = round(df[df['round']==5].describe(),2)\n",
    "sixthRound = round(df[df['round']==6].describe(),2)\n",
    "seventhRound = round(df[df['round']==7].describe(),2)"
   ]
  },
  {
   "cell_type": "code",
   "execution_count": null,
   "id": "2f0c1a58",
   "metadata": {},
   "outputs": [],
   "source": [
    "secondRound"
   ]
  },
  {
   "cell_type": "code",
   "execution_count": null,
   "id": "06adb138",
   "metadata": {},
   "outputs": [],
   "source": [
    "thirdRound"
   ]
  },
  {
   "cell_type": "code",
   "execution_count": null,
   "id": "12be80b7",
   "metadata": {},
   "outputs": [],
   "source": [
    "fourthRound"
   ]
  },
  {
   "cell_type": "code",
   "execution_count": null,
   "id": "602eb7c6",
   "metadata": {},
   "outputs": [],
   "source": [
    "fifthRound"
   ]
  },
  {
   "cell_type": "code",
   "execution_count": null,
   "id": "fc61ce1d",
   "metadata": {},
   "outputs": [],
   "source": [
    "sixthRound"
   ]
  },
  {
   "cell_type": "code",
   "execution_count": null,
   "id": "d8fb55f2",
   "metadata": {},
   "outputs": [],
   "source": [
    "seventhRound"
   ]
  },
  {
   "cell_type": "code",
   "execution_count": null,
   "id": "66e0b3d0",
   "metadata": {},
   "outputs": [],
   "source": [
    "pd.concat([firstRound, secondRound], keys=['First round statistic', 'Second round statistic'], axis=1)"
   ]
  },
  {
   "cell_type": "code",
   "execution_count": null,
   "id": "eca21792",
   "metadata": {},
   "outputs": [],
   "source": [
    "df['level'] = df['gain'].apply(lambda value:'low'\n",
    "                               if value<=0.1 else 'level1' if value<=0.4 else 'level2' if value<=0.6 else 'level3')"
   ]
  },
  {
   "cell_type": "code",
   "execution_count": null,
   "id": "f1966f9d",
   "metadata": {},
   "outputs": [],
   "source": [
    "low = df[df['level']=='low']\n",
    "level1 = df[df['level']=='level1']\n",
    "level2 = df[df['level']=='level2']\n",
    "level3 = df[df['level']=='level3']"
   ]
  },
  {
   "cell_type": "code",
   "execution_count": null,
   "id": "2e7315d2",
   "metadata": {},
   "outputs": [],
   "source": [
    "subset = df[(df['level'] == 'low')|(df['level'] == 'level2')]\n",
    "subset.index = range(len(subset))\n",
    "cols = ['tg', 'tint', 'tc', 'w']\n",
    "subset_df = subset[cols]\n",
    "\n",
    "from sklearn.preprocessing import StandardScaler\n",
    "ss = StandardScaler()\n",
    "\n",
    "scaled_df = ss.fit_transform(subset_df)\n",
    "scaled_df = pd.DataFrame(scaled_df, columns=cols)\n",
    "final_df = pd.concat([scaled_df, subset['level']], axis=1)\n",
    "final_df"
   ]
  },
  {
   "cell_type": "code",
   "execution_count": null,
   "id": "ec9292dc",
   "metadata": {},
   "outputs": [],
   "source": [
    "from pandas.plotting import parallel_coordinates\n",
    "pc = parallel_coordinates(final_df, 'level')"
   ]
  },
  {
   "cell_type": "code",
   "execution_count": null,
   "id": "966a1178",
   "metadata": {},
   "outputs": [],
   "source": [
    "raw = pd.concat([df.loc[0:200, :], df.loc[280:320, :], df.loc[400:440, :], df.loc[520:560, :], df.loc[640:680, :], df.loc[760:800, :], df.loc[880:920, :]])\n",
    "firstElite = df.loc[200:280, :]\n",
    "secondElite = df.loc[320:400, :]\n",
    "thirdElite = df.loc[440:520, :]\n",
    "fourthElite = df.loc[560:640, :]\n",
    "fifthElite = df.loc[680:760, :]\n",
    "sixElite = df.loc[800:880, :]"
   ]
  },
  {
   "cell_type": "code",
   "execution_count": null,
   "id": "b2a970d2",
   "metadata": {},
   "outputs": [],
   "source": [
    "fig, subplots = plt.subplots(1,1,figsize=(6,4), dpi=200)\n",
    "subplots.scatter(raw['gain'], raw['freq'], label='First round')\n",
    "subplots.scatter(firstElite['gain'], firstElite['freq'], label='Second round')\n",
    "subplots.scatter(secondElite['gain'], secondElite['freq'], label='Third round')\n",
    "subplots.scatter(thirdElite['gain'], thirdElite['freq'], label='Fourth round')\n",
    "subplots.scatter(fourthElite['gain'], fourthElite['freq'], label='Fifth round')\n",
    "subplots.scatter(fourthElite['gain'], fifthElite['freq'], label='Sixth round')\n",
    "subplots.scatter(fourthElite['gain'], sixElite['freq'], label='Seventh round')\n",
    "subplots.legend(loc='center left', bbox_to_anchor=(1, 0.5))\n",
    "subplots.set_xlabel(r'Brillouin gain ($\\rm m^{-1}W^{-1}$)')\n",
    "subplots.set_ylabel(r'Brillouin shift frequency (GHz)')\n",
    "subplots.set_title(r'Evolution of the Brillouin gain and shift frequency')"
   ]
  },
  {
   "cell_type": "code",
   "execution_count": null,
   "id": "9aee6057",
   "metadata": {},
   "outputs": [],
   "source": [
    "raw = pd.concat([df[df['round']==1], df.loc[280:320, :], df.loc[400:440, :], df.loc[520:560, :], df.loc[640:680, :], df.loc[760:800, :], df.loc[880:920, :], df.loc[1000:1040, :]])\n",
    "firstElite = df.loc[200:280, :]\n",
    "secondElite = df.loc[320:400, :]\n",
    "thirdElite = df.loc[440:520, :]\n",
    "fourthElite = df.loc[560:640, :]\n",
    "fifthElite = df.loc[680:760, :]\n",
    "sixElite = df.loc[800:880, :]\n",
    "\n",
    "fig, subplots = plt.subplots(1,1,figsize=(6,4), dpi=200)\n",
    "subplots.scatter(df['gain'], df['freq'])\n",
    "# subplots.scatter(firstElite['gain'], firstElite['freq'], label='Second round')\n",
    "# subplots.scatter(secondElite['gain'], secondElite['freq'], label='Third round')\n",
    "# subplots.scatter(thirdElite['gain'], thirdElite['freq'], label='Fourth round')\n",
    "# subplots.scatter(fourthElite['gain'], fourthElite['freq'], label='Fifth round')\n",
    "# subplots.scatter(fourthElite['gain'], fifthElite['freq'], label='Sixth round')\n",
    "# subplots.scatter(fourthElite['gain'], sixElite['freq'], label='Seventh round')\n",
    "# subplots.legend()\n",
    "subplots.set_xlabel(r'Brillouin gain ($\\rm m^{-1}W^{-1}$)')\n",
    "subplots.set_ylabel(r'Brillouin shift frequency (GHz)')\n",
    "subplots.set_title(r'Evolution of the Brillouin gain and shift frequency')"
   ]
  },
  {
   "cell_type": "code",
   "execution_count": null,
   "id": "b1acd75b",
   "metadata": {},
   "outputs": [],
   "source": [
    "data = df.iloc[:, 0:6]\n",
    "f, ax = plt.subplots(figsize=(6,4), dpi=200)\n",
    "corr = data.corr()\n",
    "hm = sns.heatmap(corr, annot=True, ax=ax,  cmap='RdBu')\n",
    "hm.set_title('Correlation between different parameters of SDS')"
   ]
  },
  {
   "cell_type": "code",
   "execution_count": null,
   "id": "5f914061",
   "metadata": {},
   "outputs": [],
   "source": [
    "dataTrialRun = pd.read_csv(r'..\\uptoDateResults(1stRun).csv', names=['tg', 'tint', 'tc', 'w', 'gain', 'freq'])"
   ]
  },
  {
   "cell_type": "code",
   "execution_count": null,
   "id": "348df796",
   "metadata": {},
   "outputs": [],
   "source": [
    "dataTotal = pd.concat([data, dataTrialRun], axis=0)\n",
    "f, ax = plt.subplots(figsize=(6,4), dpi=200)\n",
    "corr = dataTotal.corr()\n",
    "hm = sns.heatmap(corr, annot=True, ax=ax,  cmap='RdBu')\n",
    "hm.set_title('Correlation between different parameters of SDS')"
   ]
  },
  {
   "cell_type": "code",
   "execution_count": null,
   "id": "7d7fb60e",
   "metadata": {},
   "outputs": [],
   "source": [
    "f, ax = plt.subplots(figsize=(6,4), dpi=200)\n",
    "corr = dataTrialRun.corr()\n",
    "hm = sns.heatmap(corr, annot=True, ax=ax,  cmap='RdBu')\n",
    "hm.set_title('Correlation between different parameters of SDS (Trial run)')"
   ]
  },
  {
   "cell_type": "code",
   "execution_count": null,
   "id": "18b4d611",
   "metadata": {},
   "outputs": [],
   "source": [
    "raw = pd.concat([df[df['round']==1], df.loc[280:320, :]])\n",
    "raw = raw.iloc[:, 0:6]"
   ]
  },
  {
   "cell_type": "code",
   "execution_count": null,
   "id": "04e54bd5",
   "metadata": {},
   "outputs": [],
   "source": [
    "f, ax = plt.subplots(figsize=(6,4), dpi=200)\n",
    "corr = raw.corr()\n",
    "hm = sns.heatmap(corr, annot=True, ax=ax,  cmap='RdBu')\n",
    "hm.set_title('Correlation between different parameters of SDS')"
   ]
  },
  {
   "cell_type": "code",
   "execution_count": null,
   "id": "bf06b2bc",
   "metadata": {},
   "outputs": [],
   "source": [
    "subset = pd.concat([df[df['round']==1], df.loc[280:320, :], df.loc[400:440, :], df.loc[520:560, :], df.loc[640: 680, :]])\n",
    "subset.index = range(len(subset))\n",
    "cols = ['tg', 'tint', 'tc', 'w', 'gain', 'freq']\n",
    "subset_df = subset[cols]\n",
    "\n",
    "ss = StandardScaler()\n",
    "\n",
    "scaled_df = ss.fit_transform(subset_df)\n",
    "scaled_df = pd.DataFrame(scaled_df, columns=cols)\n",
    "scaled_df\n",
    "f, ax = plt.subplots(figsize=(6,4), dpi=200)\n",
    "corr = scaled_df.corr()\n",
    "hm = sns.heatmap(corr, annot=True, ax=ax,  cmap='RdBu')\n",
    "hm.set_title('Correlation between different parameters of SDS')"
   ]
  },
  {
   "cell_type": "code",
   "execution_count": null,
   "id": "a836f847",
   "metadata": {},
   "outputs": [],
   "source": [
    "raw = pd.concat([df[df['round']==1], df.loc[280:320, :], df.loc[400:440, :], df.loc[520:560, :], df.loc[640: 680, :]])\n",
    "raw = raw.iloc[:, 0:6]\n",
    "\n",
    "f, ax = plt.subplots(figsize=(6,4), dpi=200)\n",
    "corr = raw.corr()\n",
    "hm = sns.heatmap(corr, annot=True, ax=ax,  cmap='RdBu')\n",
    "hm.set_title('Correlation between different parameters of SDS')"
   ]
  },
  {
   "cell_type": "code",
   "execution_count": null,
   "id": "493718c6",
   "metadata": {},
   "outputs": [],
   "source": [
    "raw = pd.concat([df.loc[0:199, :], df.loc[280:319, :], df.loc[400:439, :], df.loc[520:559, :], df.loc[640:679, :], df.loc[760:799, :], df.loc[880:919, :], df.loc[1000:1039, :], df.loc[1120:1160, :]])\n",
    "raw = raw.iloc[:, 0:6]\n",
    "\n",
    "f, ax = plt.subplots(figsize=(6,4), dpi=200)\n",
    "corr = raw.corr()\n",
    "hm = sns.heatmap(corr, annot=True, ax=ax,  cmap='RdBu')\n",
    "hm.set_title('Correlation between different parameters of SDS')"
   ]
  },
  {
   "cell_type": "code",
   "execution_count": null,
   "id": "db71514d",
   "metadata": {},
   "outputs": [],
   "source": [
    "raw.shape"
   ]
  },
  {
   "cell_type": "code",
   "execution_count": null,
   "id": "95332e28",
   "metadata": {},
   "outputs": [],
   "source": [
    "df.shape"
   ]
  },
  {
   "cell_type": "code",
   "execution_count": null,
   "id": "d3381492",
   "metadata": {},
   "outputs": [],
   "source": [
    "sorted_df = df.sort_values('gain', ascending=False)\n",
    "sorted_df.tc *= 1000\n",
    "sorted_df.iloc[0:10]"
   ]
  },
  {
   "cell_type": "code",
   "execution_count": null,
   "id": "75f43f61",
   "metadata": {},
   "outputs": [],
   "source": []
  }
 ],
 "metadata": {
  "kernelspec": {
   "display_name": "Python 3 (ipykernel)",
   "language": "python",
   "name": "python3"
  },
  "language_info": {
   "codemirror_mode": {
    "name": "ipython",
    "version": 3
   },
   "file_extension": ".py",
   "mimetype": "text/x-python",
   "name": "python",
   "nbconvert_exporter": "python",
   "pygments_lexer": "ipython3",
   "version": "3.9.6"
  }
 },
 "nbformat": 4,
 "nbformat_minor": 5
}
